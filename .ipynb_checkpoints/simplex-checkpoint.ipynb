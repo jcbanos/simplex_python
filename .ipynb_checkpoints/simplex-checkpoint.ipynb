{
 "cells": [
  {
   "cell_type": "code",
   "execution_count": 260,
   "metadata": {},
   "outputs": [],
   "source": [
    "import numpy as np\n",
    "np.set_printoptions(suppress=True)"
   ]
  },
  {
   "cell_type": "markdown",
   "metadata": {},
   "source": [
    "# Get the objective function and restrictions."
   ]
  },
  {
   "cell_type": "code",
   "execution_count": 248,
   "metadata": {},
   "outputs": [],
   "source": [
    "# # Ask for the Obj function\n",
    "# obj = input(\"What is the objective function?\")\n",
    "\n",
    "# # Create an array for the restrictions\n",
    "# restrictions = []\n",
    "\n",
    "# # Get the first restriction\n",
    "# restriction = input(\"What is the first restriction? (exit to exit)\")\n",
    "\n",
    "# # Use while loop to ask for more restrictions\n",
    "# while restriction != \"exit\":\n",
    "    \n",
    "#     # Add restriction to restrictions array\n",
    "#     restrictions.append(restriction)\n",
    "    \n",
    "#     # Ask for the next restriction\n",
    "#     restriction = input(\"What is the next restriction? (exit to exit)\")"
   ]
  },
  {
   "cell_type": "markdown",
   "metadata": {},
   "source": [
    "# Process the objective function and the restriction functions"
   ]
  },
  {
   "cell_type": "code",
   "execution_count": 249,
   "metadata": {},
   "outputs": [],
   "source": [
    "obj = \"7,8,10\"\n",
    "restrictions = [[\"2,3,2,L,1000\"], [\"1,1,2,L,800\"]]"
   ]
  },
  {
   "cell_type": "code",
   "execution_count": 250,
   "metadata": {},
   "outputs": [],
   "source": [
    "def process_obj_function(obj):\n",
    "    obj_array = obj.split(\",\")\n",
    "    obj_array = [-float(num) for num in obj_array]\n",
    "    obj_array.append(\"P\")\n",
    "    obj_array.append(0.0)\n",
    "    return obj_array"
   ]
  },
  {
   "cell_type": "code",
   "execution_count": 251,
   "metadata": {},
   "outputs": [
    {
     "data": {
      "text/plain": [
       "[-7.0, -8.0, -10.0, 'P', 0.0]"
      ]
     },
     "execution_count": 251,
     "metadata": {},
     "output_type": "execute_result"
    }
   ],
   "source": [
    "obj = process_obj_function(obj)\n",
    "obj"
   ]
  },
  {
   "cell_type": "code",
   "execution_count": 252,
   "metadata": {},
   "outputs": [],
   "source": [
    "def process_rest(restrictions):\n",
    "    for i in range(len(restrictions)):\n",
    "        restrictions[i] = restrictions[i].split(\",\")\n",
    "        for j in range(len(restrictions[i])):\n",
    "            try:\n",
    "                restrictions[i][j] = float(restrictions[i][j])\n",
    "            except ValueError:\n",
    "                if restrictions[i][j].upper() == \"L\":\n",
    "                    restrictions[i][j] = 1.0\n",
    "    return restrictions"
   ]
  },
  {
   "cell_type": "code",
   "execution_count": 253,
   "metadata": {},
   "outputs": [
    {
     "data": {
      "text/plain": [
       "[[2.0, 3.0, 2.0, 1.0, 1000.0], [1.0, 1.0, 2.0, 1.0, 800.0]]"
      ]
     },
     "execution_count": 253,
     "metadata": {},
     "output_type": "execute_result"
    }
   ],
   "source": [
    "restrictions = [\"2,3,2,L,1000\", \"1,1,2,L,800\"]\n",
    "process_rest(restrictions)"
   ]
  },
  {
   "cell_type": "code",
   "execution_count": 254,
   "metadata": {},
   "outputs": [],
   "source": [
    "def create_tableau(objective, restrictions):\n",
    "    num_restrictions = len(restrictions)\n",
    "    num_variables = len(objective) - 2\n",
    "    tableau = np.zeros((num_restrictions + 1, num_restrictions + num_variables + 2))\n",
    "    restrictions_matrix = np.array(restrictions)\n",
    "    matrix = np.vstack((restrictions_matrix, objective))\n",
    "    tableau[:num_restrictions, :num_variables] = matrix[:num_restrictions, :num_variables]\n",
    "    for i in range(num_restrictions):\n",
    "        tableau[i, num_variables + i] = 1\n",
    "    tableau[-1, :num_variables] = matrix[-1, :num_variables]\n",
    "    tableau[:, -1] = matrix[:, -1]\n",
    "    tableau[-1, -2] = 1\n",
    "    return tableau\n"
   ]
  },
  {
   "cell_type": "code",
   "execution_count": 255,
   "metadata": {},
   "outputs": [
    {
     "data": {
      "text/plain": [
       "array([[   2.,    3.,    2.,    1.,    0.,    0., 1000.],\n",
       "       [   1.,    1.,    2.,    0.,    1.,    0.,  800.],\n",
       "       [  -7.,   -8.,  -10.,    0.,    0.,    1.,    0.]])"
      ]
     },
     "execution_count": 255,
     "metadata": {},
     "output_type": "execute_result"
    }
   ],
   "source": [
    "tableau = create_tableau(obj, restrictions)\n",
    "tableau"
   ]
  },
  {
   "cell_type": "code",
   "execution_count": 256,
   "metadata": {},
   "outputs": [],
   "source": [
    "def pivot_tableau(tableau):\n",
    "    profit_variables = tableau[-1, :-1]\n",
    "    min_p = profit_variables.min()\n",
    "    pivot_column = np.where(profit_variables == min_p)[0][0]\n",
    "    column_values = tableau[:-1, pivot_column]\n",
    "    profit_values = tableau[:-1, -1]\n",
    "    ratios = profit_values/column_values\n",
    "    row_index = np.where(ratios == ratios.min())[0][0]\n",
    "    tableau[row_index, :] = tableau[row_index, :] / tableau[row_index, pivot_column]\n",
    "    for i in range(len(tableau)):\n",
    "        if i == row_index:\n",
    "            continue\n",
    "        row = tableau[i,:]\n",
    "        multiple = -row[pivot_column]\n",
    "        modified_pivot_row = multiple*tableau[row_index, :]\n",
    "        tableau[i, :] = modified_pivot_row + row\n",
    "    return tableau\n",
    "    "
   ]
  },
  {
   "cell_type": "code",
   "execution_count": 258,
   "metadata": {},
   "outputs": [],
   "source": [
    "while(np.any(tableau[-1, :-1] < 0)):\n",
    "    pivot_tableau(tableau)"
   ]
  },
  {
   "cell_type": "code",
   "execution_count": 259,
   "metadata": {},
   "outputs": [
    {
     "name": "stdout",
     "output_type": "stream",
     "text": [
      "[[   1.     2.     0.     1.    -1.     0.   200. ]\n",
      " [   0.    -0.5    1.    -0.5    1.     0.   300. ]\n",
      " [   0.     1.     0.     2.     3.     1.  4400. ]]\n"
     ]
    }
   ],
   "source": [
    "print(tableau)"
   ]
  },
  {
   "cell_type": "code",
   "execution_count": null,
   "metadata": {},
   "outputs": [],
   "source": [
    "class Simplex:\n",
    "    def __init__(self)"
   ]
  }
 ],
 "metadata": {
  "kernelspec": {
   "display_name": "Python 3",
   "language": "python",
   "name": "python3"
  },
  "language_info": {
   "codemirror_mode": {
    "name": "ipython",
    "version": 3
   },
   "file_extension": ".py",
   "mimetype": "text/x-python",
   "name": "python",
   "nbconvert_exporter": "python",
   "pygments_lexer": "ipython3",
   "version": "3.7.7"
  },
  "toc": {
   "base_numbering": 1,
   "nav_menu": {},
   "number_sections": true,
   "sideBar": true,
   "skip_h1_title": false,
   "title_cell": "Table of Contents",
   "title_sidebar": "Contents",
   "toc_cell": false,
   "toc_position": {},
   "toc_section_display": true,
   "toc_window_display": false
  }
 },
 "nbformat": 4,
 "nbformat_minor": 4
}
