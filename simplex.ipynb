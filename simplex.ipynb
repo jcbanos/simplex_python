{
 "cells": [
  {
   "cell_type": "markdown",
   "metadata": {},
   "source": [
    "# Conseguir la funcion objetivo y las restricciones."
   ]
  },
  {
   "cell_type": "code",
   "execution_count": 1,
   "metadata": {},
   "outputs": [
    {
     "name": "stdout",
     "output_type": "stream",
     "text": [
      "Cual es la funcion objetivo?1,-1,3\n",
      "Cual es la primera restricción? (exit para salir)exit\n"
     ]
    }
   ],
   "source": [
    "# Preguntar por la funcion objetivo\n",
    "obj = input(\"Cual es la funcion objetivo?\")\n",
    "\n",
    "# Crear arreglo para guardar las restricciones.\n",
    "restricciones = []\n",
    "\n",
    "# Conseguir la primera restriccion\n",
    "restriccion = input(\"Cual es la primera restricción? (exit para salir)\")\n",
    "\n",
    "# Agregar la primera restricción al arreglo de restricciones.\n",
    "restricciones.append(restriccion)\n",
    "\n",
    "# Usar while loop para preguntar por mas restricciones.\n",
    "while restriccion != \"exit\":\n",
    "    \n",
    "    # Preguntar por siguiente restriccion.\n",
    "    restriccion = input(\"Cual es la siguiente restricción? (exit para salir)\")\n",
    "    \n",
    "    # Agregar siguiente restriccion a arreglo de restricciones.\n",
    "    restricciones.append(restriccion)\n"
   ]
  },
  {
   "cell_type": "markdown",
   "metadata": {},
   "source": [
    "# Processar la funcion objetivo y las restricciones."
   ]
  },
  {
   "cell_type": "code",
   "execution_count": 5,
   "metadata": {},
   "outputs": [],
   "source": [
    "def processar_funcion_objetivo(cadena):\n",
    "    \"\"\" Función que genera arreglo de la funcion objetivo\"\"\"\n",
    "    # Crear arreglo de la funcion objetivo.\n",
    "    arreglo_obj = cadena.split(\",\")\n",
    "    arreglo_obj = [float(x) for x in arreglo_obj]\n",
    "    return arreglo_obj\n"
   ]
  },
  {
   "cell_type": "code",
   "execution_count": null,
   "metadata": {},
   "outputs": [],
   "source": [
    "def processar_restricciones()"
   ]
  }
 ],
 "metadata": {
  "kernelspec": {
   "display_name": "Python 3",
   "language": "python",
   "name": "python3"
  },
  "language_info": {
   "codemirror_mode": {
    "name": "ipython",
    "version": 3
   },
   "file_extension": ".py",
   "mimetype": "text/x-python",
   "name": "python",
   "nbconvert_exporter": "python",
   "pygments_lexer": "ipython3",
   "version": "3.7.7"
  },
  "toc": {
   "base_numbering": 1,
   "nav_menu": {},
   "number_sections": true,
   "sideBar": true,
   "skip_h1_title": false,
   "title_cell": "Table of Contents",
   "title_sidebar": "Contents",
   "toc_cell": false,
   "toc_position": {},
   "toc_section_display": true,
   "toc_window_display": false
  }
 },
 "nbformat": 4,
 "nbformat_minor": 4
}
